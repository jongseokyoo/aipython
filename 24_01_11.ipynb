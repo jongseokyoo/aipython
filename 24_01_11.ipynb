{
  "nbformat": 4,
  "nbformat_minor": 0,
  "metadata": {
    "colab": {
      "provenance": [],
      "authorship_tag": "ABX9TyPTRr/qXcMgkRTlwjjaF4nx",
      "include_colab_link": true
    },
    "kernelspec": {
      "name": "python3",
      "display_name": "Python 3"
    },
    "language_info": {
      "name": "python"
    }
  },
  "cells": [
    {
      "cell_type": "markdown",
      "metadata": {
        "id": "view-in-github",
        "colab_type": "text"
      },
      "source": [
        "<a href=\"https://colab.research.google.com/github/jongseokyoo/aipython/blob/main/24_01_11.ipynb\" target=\"_parent\"><img src=\"https://colab.research.google.com/assets/colab-badge.svg\" alt=\"Open In Colab\"/></a>"
      ]
    },
    {
      "cell_type": "code",
      "source": [
        "import matplotlib.pyplot as plt\n",
        "import numpy as np\n",
        "import pandas as pd\n",
        "import seaborn as sns"
      ],
      "metadata": {
        "id": "XnUryZjagpX3"
      },
      "execution_count": null,
      "outputs": []
    },
    {
      "cell_type": "code",
      "source": [
        "#mission1\n",
        "x = np.arange(1,11)\n",
        "y = np.random.randint(1,30,10)\n",
        "plt.scatter(x,y)\n",
        "plt.show()"
      ],
      "metadata": {
        "id": "Ita--9-ffJSk"
      },
      "execution_count": null,
      "outputs": []
    },
    {
      "cell_type": "code",
      "source": [
        "#mission2\n",
        "df = pd.read_excel('data1.xlsx')\n",
        "plt.rc('font', family = 'AppleGothic')\n",
        "plt.plot(df['name'],df['kor'],'go--',label='국어')\n",
        "plt.plot(df['name'],df['math'],'r*-',label='수학')\n",
        "plt.title('성적그래프')\n",
        "plt.xlabel('이름')\n",
        "plt.ylabel('점수')\n",
        "plt.legend()\n",
        "plt.show()"
      ],
      "metadata": {
        "id": "NXA5vE9lfJHF"
      },
      "execution_count": null,
      "outputs": []
    },
    {
      "cell_type": "code",
      "execution_count": null,
      "metadata": {
        "id": "Rad6TbNyfAv-"
      },
      "outputs": [],
      "source": [
        "#mission3\n",
        "penguins_data=pd.read_csv('penguins.csv')\n",
        "sns.barplot(x = 'species', y = 'body_mass_g', hue = 'sex' ,data = penguins_data)\n",
        "plt.show()"
      ]
    }
  ]
}