{
  "nbformat": 4,
  "nbformat_minor": 0,
  "metadata": {
    "colab": {
      "provenance": [],
      "authorship_tag": "ABX9TyOGAzBNMwrhTo4vLrexjwKX",
      "include_colab_link": true
    },
    "kernelspec": {
      "name": "python3",
      "display_name": "Python 3"
    },
    "language_info": {
      "name": "python"
    }
  },
  "cells": [
    {
      "cell_type": "markdown",
      "metadata": {
        "id": "view-in-github",
        "colab_type": "text"
      },
      "source": [
        "<a href=\"https://colab.research.google.com/github/jongseokyoo/aipython/blob/main/23_12_28.ipynb\" target=\"_parent\"><img src=\"https://colab.research.google.com/assets/colab-badge.svg\" alt=\"Open In Colab\"/></a>"
      ]
    },
    {
      "cell_type": "code",
      "execution_count": 1,
      "metadata": {
        "id": "fD_Qk1ie_-Zm"
      },
      "outputs": [],
      "source": [
        "import os"
      ]
    },
    {
      "cell_type": "code",
      "source": [
        "import numpy"
      ],
      "metadata": {
        "id": "4OQvUNG3ALEM"
      },
      "execution_count": 2,
      "outputs": []
    },
    {
      "cell_type": "code",
      "source": [
        "import pandas"
      ],
      "metadata": {
        "id": "8C84aPlHAPt5"
      },
      "execution_count": 3,
      "outputs": []
    },
    {
      "cell_type": "code",
      "source": [
        "#2-1\n",
        "print('부산대학교') #첫 번째 줄에 ‘부산대학교’를 출력합니다.\n",
        "print('기초교육원') #두 번째 줄에 ‘기초교육원’을 출력합니다.\n",
        "print('컴퓨터적 사고와 코딩') #세 번째 줄에 ‘파이썬 프로그래밍 기초’를 출력합니다."
      ],
      "metadata": {
        "colab": {
          "base_uri": "https://localhost:8080/"
        },
        "id": "_-rNZB3OFjd8",
        "outputId": "bddc5392-81db-4411-fce2-f62428d1441c"
      },
      "execution_count": 4,
      "outputs": [
        {
          "output_type": "stream",
          "name": "stdout",
          "text": [
            "부산대학교\n",
            "기초교육원\n",
            "컴퓨터적 사고와 코딩\n"
          ]
        }
      ]
    },
    {
      "cell_type": "code",
      "source": [
        "#2-2\n",
        "#화면에 여러 줄을\n",
        "#출력하는 방법에 대한 코드입니다.\n",
        "print(\"부산대학교\")\n",
        "print(\"기초교육원\")\n",
        "print(\"컴퓨터적 사고와 코딩\")"
      ],
      "metadata": {
        "colab": {
          "base_uri": "https://localhost:8080/"
        },
        "id": "HMzQ6OmzBQ-y",
        "outputId": "41044398-93ba-43c6-e89f-f32ccca282c6"
      },
      "execution_count": 5,
      "outputs": [
        {
          "output_type": "stream",
          "name": "stdout",
          "text": [
            "부산대학교\n",
            "기초교육원\n",
            "컴퓨터적 사고와 코딩\n"
          ]
        }
      ]
    },
    {
      "cell_type": "code",
      "source": [
        "#2-3\n",
        " #따음표 3개짜리는 그대로 출력해준다.\n",
        "print(\"\"\"One\n",
        "Two\n",
        "Three\"\"\")"
      ],
      "metadata": {
        "colab": {
          "base_uri": "https://localhost:8080/"
        },
        "id": "BRqefgbyGDs9",
        "outputId": "2f8b7e06-7ab1-4a98-db20-5f2fd6bce3af"
      },
      "execution_count": 9,
      "outputs": [
        {
          "output_type": "stream",
          "name": "stdout",
          "text": [
            "One\n",
            "Two\n",
            "Three\n"
          ]
        }
      ]
    }
  ]
}