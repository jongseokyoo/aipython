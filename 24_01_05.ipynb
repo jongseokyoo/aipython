{
  "nbformat": 4,
  "nbformat_minor": 0,
  "metadata": {
    "colab": {
      "provenance": [],
      "authorship_tag": "ABX9TyPLvBc/1Pufmezo488sU6DO",
      "include_colab_link": true
    },
    "kernelspec": {
      "name": "python3",
      "display_name": "Python 3"
    },
    "language_info": {
      "name": "python"
    }
  },
  "cells": [
    {
      "cell_type": "markdown",
      "metadata": {
        "id": "view-in-github",
        "colab_type": "text"
      },
      "source": [
        "<a href=\"https://colab.research.google.com/github/jongseokyoo/aipython/blob/main/24_01_05.ipynb\" target=\"_parent\"><img src=\"https://colab.research.google.com/assets/colab-badge.svg\" alt=\"Open In Colab\"/></a>"
      ]
    },
    {
      "cell_type": "code",
      "execution_count": null,
      "metadata": {
        "colab": {
          "base_uri": "https://localhost:8080/"
        },
        "id": "X2_-XlxUgUMX",
        "outputId": "5e8455fd-2f1b-4a63-b807-b3d3664f32e6"
      },
      "outputs": [
        {
          "output_type": "stream",
          "name": "stdout",
          "text": [
            "['John,30,Engineer', 'Alice,25,Designer', 'Bob,22,Artist']\n",
            "name: John       / age: 30         / occupation: Engineer  \n",
            "name: Alice      / age: 25         / occupation: Designer  \n",
            "name: Bob        / age: 22         / occupation: Artist    \n",
            "hello world this is a test\n",
            "['Geeks', 'for', 'Geeks']\n",
            "Geeks-for-Geeks\n",
            "[9, 36, 81, 144, 225, 324]\n",
            "[1, 4, 9, 16, 25]\n",
            "['Seoul', 'Shanghai']\n",
            "1 apple\n",
            "2 banana\n",
            "3 cherry\n",
            "fruit1 name is a\n",
            "fruit2 name is b\n",
            "fruit3 name is c\n",
            "John is 25 years old.\n",
            "Jane is 30 years old.\n",
            "Doe  is 35 years old.\n",
            "10\n",
            "12\n"
          ]
        }
      ],
      "source": [
        "#split\n",
        "data = \"John,30,Engineer\\nAlice,25,Designer\\nBob,22,Artist\"\n",
        "lines = data.split(\"\\n\")\n",
        "print(lines)\n",
        "for line in lines:\n",
        "    fields = line.split(\",\")\n",
        "    print(\"name: {:<10} / age: {:<10} / occupation: {:<10}\".format(fields[0], fields[1], fields[2]))\n",
        "\n",
        "#join\n",
        "words =[\"hello\",\"world\",\"this\",\"is\",\"a\",\"test\"]\n",
        "sentence= ' '.join(words)\n",
        "print(sentence)\n",
        "\n",
        "in1 = \"Geeks for Geeks\"\n",
        "out1 = in1.split(\" \")\n",
        "print(out1)\n",
        "\n",
        "in2 = ['Geeks', 'for', 'Geeks']\n",
        "out2 = \"-\".join(in2)\n",
        "print(out2)\n",
        "\n",
        "\n",
        "#list comprehension *****중요!!\n",
        "squares = [x**2 for x in range(1,21) if x%3==0] #if이하는 생략가능하다\n",
        "print(squares)\n",
        "\n",
        "com_in1 = [1,2,3,4,5]\n",
        "com_out1 = [x**2 for x in com_in1]\n",
        "print(com_out1)\n",
        "\n",
        "com_in2 = [\"Seoul\", \"New York\", \"London\", \"Shanghai\", \"Paris\", \"Tokyo\"]\n",
        "com_out2 = [x for x in com_in2 if \"S\" in x]\n",
        "print(com_out2)\n",
        "\n",
        "#enumerate\n",
        "fruits = [\"apple\", \"banana\", \"cherry\"]\n",
        "for index, fruit in enumerate(fruits, start=1):\n",
        "    print(index,fruit)\n",
        "\n",
        "enu_in1 = ['a','b','c']\n",
        "for index, fruit in enumerate(enu_in1,1):\n",
        "    print(\"fruit{} name is {}\".format(index,fruit))\n",
        "\n",
        "#zip\n",
        "names = ['John', 'Jane', 'Doe']\n",
        "ages = [25,30,35]\n",
        "for name,age in zip(names,ages):\n",
        "    print(f\"{name:<4} is {age} years old.\")\n",
        "\n",
        "names = ['M', 'R', 'C']\n",
        "ages = [24,50,18]\n",
        "\n",
        "\n",
        "#lambda *****중요!!\n",
        "double = lambda x : x*2\n",
        "print(double(5))\n",
        "\n",
        "add = lambda x,y : x+y\n",
        "print(add(5,7))\n"
      ]
    }
  ]
}