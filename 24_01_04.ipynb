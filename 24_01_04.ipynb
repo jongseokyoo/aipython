{
  "nbformat": 4,
  "nbformat_minor": 0,
  "metadata": {
    "colab": {
      "provenance": [],
      "authorship_tag": "ABX9TyMOk5cf6ks3gOUoQuK7Bb1p",
      "include_colab_link": true
    },
    "kernelspec": {
      "name": "python3",
      "display_name": "Python 3"
    },
    "language_info": {
      "name": "python"
    }
  },
  "cells": [
    {
      "cell_type": "markdown",
      "metadata": {
        "id": "view-in-github",
        "colab_type": "text"
      },
      "source": [
        "<a href=\"https://colab.research.google.com/github/jongseokyoo/aipython/blob/main/24_01_04.ipynb\" target=\"_parent\"><img src=\"https://colab.research.google.com/assets/colab-badge.svg\" alt=\"Open In Colab\"/></a>"
      ]
    },
    {
      "cell_type": "code",
      "execution_count": 13,
      "metadata": {
        "colab": {
          "base_uri": "https://localhost:8080/"
        },
        "id": "snnZdwGTcp68",
        "outputId": "633ca46c-6954-4726-a62b-105c015a1103"
      },
      "outputs": [
        {
          "output_type": "stream",
          "name": "stdout",
          "text": [
            "학생의 점수를 입력하세요:90\n",
            "학생의 점수를 입력하세요:80\n",
            "학생의 점수를 입력하세요:70\n",
            "학생의 점수를 입력하세요:x\n",
            "[90, 80, 70]\n",
            "합계: 240\n",
            "인원수: 3\n",
            "평균: 80.000\n"
          ]
        }
      ],
      "source": [
        "score=[]\n",
        "i=0\n",
        "while True :\n",
        "    num = input('학생의 점수를 입력하세요:')\n",
        "    if num.isdigit():\n",
        "        score.append(int(num))\n",
        "    else:\n",
        "        break\n",
        "    i+=1\n",
        "print(score)\n",
        "print('합계:',sum(score))\n",
        "print('인원수:',len(score))\n",
        "average=sum(score)/len(score)\n",
        "print('평균: %.3f' %average)"
      ]
    }
  ]
}