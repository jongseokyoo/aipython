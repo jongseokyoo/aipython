{
  "nbformat": 4,
  "nbformat_minor": 0,
  "metadata": {
    "colab": {
      "provenance": [],
      "authorship_tag": "ABX9TyMyxT0opp6wydq9O6aF37d7",
      "include_colab_link": true
    },
    "kernelspec": {
      "name": "python3",
      "display_name": "Python 3"
    },
    "language_info": {
      "name": "python"
    }
  },
  "cells": [
    {
      "cell_type": "markdown",
      "metadata": {
        "id": "view-in-github",
        "colab_type": "text"
      },
      "source": [
        "<a href=\"https://colab.research.google.com/github/jongseokyoo/aipython/blob/main/24_01_02.ipynb\" target=\"_parent\"><img src=\"https://colab.research.google.com/assets/colab-badge.svg\" alt=\"Open In Colab\"/></a>"
      ]
    },
    {
      "cell_type": "markdown",
      "source": [
        "Program 2-6"
      ],
      "metadata": {
        "id": "baeA__1PCVIE"
      }
    },
    {
      "cell_type": "code",
      "execution_count": null,
      "metadata": {
        "colab": {
          "base_uri": "https://localhost:8080/"
        },
        "id": "dEchOXoRCFG2",
        "outputId": "3b4f8458-3e0c-4d79-9698-6348873bf54b"
      },
      "outputs": [
        {
          "output_type": "stream",
          "name": "stdout",
          "text": [
            "우리가 수업하는 실습실:\n",
            "105\n"
          ]
        }
      ],
      "source": [
        "#하나의 변수를 활용하는 코드입니다.\n",
        "lab = 105\n",
        "print(\"우리가 수업하는 실습실:\")\n",
        "print(lab)"
      ]
    },
    {
      "cell_type": "markdown",
      "source": [
        "Program 2-7"
      ],
      "metadata": {
        "id": "0XLbNO3kCUbE"
      }
    },
    {
      "cell_type": "code",
      "source": [
        "#하나의 변수를 활용하는 코드입니다.\n",
        "lab = 105\n",
        "print(\"우리가 수업하는 실습실:\",lab)"
      ],
      "metadata": {
        "colab": {
          "base_uri": "https://localhost:8080/"
        },
        "id": "JaG3dmDICxUj",
        "outputId": "935a006c-c3a5-4c1d-a59a-62e23a9c63bb"
      },
      "execution_count": null,
      "outputs": [
        {
          "output_type": "stream",
          "name": "stdout",
          "text": [
            "우리가 수업하는 실습실: 105\n"
          ]
        }
      ]
    },
    {
      "cell_type": "markdown",
      "source": [
        "Program 2-8"
      ],
      "metadata": {
        "id": "KPaP7CF4DNnL"
      }
    },
    {
      "cell_type": "code",
      "source": [
        "#변수 두 개를 생성하고 값을 할당\n",
        "my_id = 202024143\n",
        "grade = 3\n",
        "\n",
        "#두 개의 변수에 할당된 값을 출력\n",
        "print(\"나의 학번:\")\n",
        "print(my_id)\n",
        "print(\"학년:\")\n",
        "print(grade)"
      ],
      "metadata": {
        "colab": {
          "base_uri": "https://localhost:8080/"
        },
        "id": "S4pFhfyJDRBs",
        "outputId": "6e3b494a-ec5b-4537-c84d-43d68133ce15"
      },
      "execution_count": null,
      "outputs": [
        {
          "output_type": "stream",
          "name": "stdout",
          "text": [
            "나의 학번:\n",
            "202024143\n",
            "학년:\n",
            "3\n"
          ]
        }
      ]
    },
    {
      "cell_type": "markdown",
      "source": [
        "Program 2-9"
      ],
      "metadata": {
        "id": "DLzF4lqLDxcp"
      }
    },
    {
      "cell_type": "code",
      "source": [
        "#변수에 값을 할당하고 출력하는 예제입니다.\n",
        "#dollars 변수에 값을 할당해봅시다.\n",
        "dollars = 2.75\n",
        "print(\"I have\", dollars, \"in my account\")\n",
        "\n",
        "#dollars 변수에 새로운 값을 할당해봅시다.\n",
        "dollars = 99.95\n",
        "print(\"But now I have\", dollars, \"in my account\")"
      ],
      "metadata": {
        "colab": {
          "base_uri": "https://localhost:8080/"
        },
        "id": "WE5MBUtfDqlr",
        "outputId": "901d49ac-bca5-4ffa-ffdb-c626205a377f"
      },
      "execution_count": null,
      "outputs": [
        {
          "output_type": "stream",
          "name": "stdout",
          "text": [
            "I have 2.75 in my account\n",
            "But now I have 99.95 in my account\n"
          ]
        }
      ]
    },
    {
      "cell_type": "markdown",
      "source": [
        "Program 2-10"
      ],
      "metadata": {
        "id": "-H65HsXHElBh"
      }
    },
    {
      "cell_type": "code",
      "source": [
        "#두 개의 변수를 생성하고 문자열을 할당합니다.\n",
        "department = \"전기공학과\"\n",
        "name = \"유종석\"\n",
        "\n",
        "#각 변수에 할당된 문자열 값을 출력해보자.\n",
        "print(department,name)"
      ],
      "metadata": {
        "colab": {
          "base_uri": "https://localhost:8080/"
        },
        "id": "QoSP7ypUEkxq",
        "outputId": "346a7952-6d01-4596-fa4b-15dc63f93f89"
      },
      "execution_count": null,
      "outputs": [
        {
          "output_type": "stream",
          "name": "stdout",
          "text": [
            "전기공학과 유종석\n"
          ]
        }
      ]
    },
    {
      "cell_type": "markdown",
      "source": [
        "Program 2-11"
      ],
      "metadata": {
        "id": "J0fAO4u4E8kA"
      }
    },
    {
      "cell_type": "code",
      "source": [
        "#학과명을 입력받습니다.\n",
        "department = input(\"학과명:\")\n",
        "\n",
        "#여러분의 이름을 입력받습니다.\n",
        "name = input(\"성명:\")\n",
        "\n",
        "#두 변수의 값을 출력합니다.\n",
        "print(\"안녕하세요.\", department, name,\"입니다.\")"
      ],
      "metadata": {
        "colab": {
          "base_uri": "https://localhost:8080/"
        },
        "id": "T35mbqBkE524",
        "outputId": "c88fe1d4-7200-44a6-d252-eda091b6ff06"
      },
      "execution_count": null,
      "outputs": [
        {
          "output_type": "stream",
          "name": "stdout",
          "text": [
            "학과명:전기공학과\n",
            "성명:유종석\n",
            "안녕하세요. 전기공학과 유종석 입니다.\n"
          ]
        }
      ]
    },
    {
      "cell_type": "markdown",
      "source": [
        "Program 2-12"
      ],
      "metadata": {
        "id": "4Ctc-Ta_FiCo"
      }
    },
    {
      "cell_type": "code",
      "source": [
        "#여러분의 이름, 나이, 통학시간 정보를 입력받습니다.\n",
        "name = input(\"당신의 이름은 무엇입니까?\")\n",
        "age = int(input(\"나이는 어떻게 되시나요?\"))\n",
        "attending_time = float(input(\"통학시간은 몇 분정도 걸립니까?\"))\n",
        "\n",
        "#변수에 입력된 데이터를 출력해봅시다.\n",
        "print(\"입력 정보는 다음과 같습니다.\")\n",
        "print(\"이름:\", name)\n",
        "print(\"나이:\", age)\n",
        "print(\"통학시간:\", attending_time)"
      ],
      "metadata": {
        "colab": {
          "base_uri": "https://localhost:8080/"
        },
        "id": "s9u-a-NcFkoY",
        "outputId": "14762ef7-d305-41b7-9967-c055bf109a7d"
      },
      "execution_count": null,
      "outputs": [
        {
          "output_type": "stream",
          "name": "stdout",
          "text": [
            "당신의 이름은 무엇입니까?유종석\n",
            "나이는 어떻게 되시나요?25\n",
            "통학시간은 몇 분정도 걸립니까?5\n",
            "입력 정보는 다음과 같습니다.\n",
            "이름: 유종석\n",
            "나이: 25\n",
            "통학시간: 5.0\n"
          ]
        }
      ]
    },
    {
      "cell_type": "markdown",
      "source": [
        "Program 2-13"
      ],
      "metadata": {
        "id": "dsZt72mxGgkj"
      }
    },
    {
      "cell_type": "code",
      "source": [
        "#salary 변수에 급여를 할당합니다.\n",
        "salary = 2500.0\n",
        "\n",
        "#bonus 변수에 보너스를 할당합니다.\n",
        "bonus = 1200.0\n",
        "\n",
        "#급여와 보너스를 더하여 총 급여를 구해봅시다.\n",
        "#총 급여를 pay 변수에 할당합니다.\n",
        "pay = salary + bonus\n",
        "\n",
        "#총 급여를 출력합니다.\n",
        "print(\"총 급여:\", pay)"
      ],
      "metadata": {
        "colab": {
          "base_uri": "https://localhost:8080/"
        },
        "id": "n3CScQkoGnF2",
        "outputId": "81d888ea-0c3d-455d-e77d-88001df37452"
      },
      "execution_count": null,
      "outputs": [
        {
          "output_type": "stream",
          "name": "stdout",
          "text": [
            "총 급여: 3700.0\n"
          ]
        }
      ]
    },
    {
      "cell_type": "markdown",
      "source": [
        "Program 2-14"
      ],
      "metadata": {
        "id": "bxOMhwm4HKBm"
      }
    },
    {
      "cell_type": "code",
      "source": [
        "#본 예제에서는 원가에 할인율을 적용하여 할인가격을 계산해보자.\n",
        "\n",
        "#original_price 변수에 원가를 입력받는다.\n",
        "original_price = float(input(\"제품의 원가를 입력해주세요:\"))\n",
        "\n",
        "#원가에 할인율 20%를 적용하여 할인가를 계산하여 discount 변수에 할당한다.\n",
        "discount = original_price * 0.2\n",
        "sale_price = original_price - discount\n",
        "print(\"할인가격\", sale_price)"
      ],
      "metadata": {
        "colab": {
          "base_uri": "https://localhost:8080/"
        },
        "id": "89jCW2IiHK82",
        "outputId": "0db4dd89-f6a9-426d-c882-18e76caaff91"
      },
      "execution_count": null,
      "outputs": [
        {
          "output_type": "stream",
          "name": "stdout",
          "text": [
            "제품의 원가를 입력해주세요:1000\n",
            "할인가격 800.0\n"
          ]
        }
      ]
    },
    {
      "cell_type": "markdown",
      "source": [
        "Program 2-15"
      ],
      "metadata": {
        "id": "fMTcb1mAH7jY"
      }
    },
    {
      "cell_type": "code",
      "source": [
        "test1 = float(input(\"첫 번째 과목 점수를 입력해주세요.\"))\n",
        "test2 = float(input(\"두 번째 과목 점수를 입력해주세요.\"))\n",
        "test3 = float(input(\"세 번째 과목 점수를 입력해주세요.\"))\n",
        "\n",
        "average = (test1 + test2 + test3) / 3.0\n",
        "\n",
        "print(\"3 과목의 평균 점수:\",average)"
      ],
      "metadata": {
        "colab": {
          "base_uri": "https://localhost:8080/"
        },
        "id": "mG4XcaFSH9UZ",
        "outputId": "fa50492e-a51a-49ee-aadf-189d88e3a69a"
      },
      "execution_count": null,
      "outputs": [
        {
          "output_type": "stream",
          "name": "stdout",
          "text": [
            "첫 번째 과목 점수를 입력해주세요.1\n",
            "두 번째 과목 점수를 입력해주세요.2\n",
            "세 번째 과목 점수를 입력해주세요.3\n",
            "3 과목의 평균 점수: 2.0\n"
          ]
        }
      ]
    },
    {
      "cell_type": "markdown",
      "source": [
        "Program 2-16"
      ],
      "metadata": {
        "id": "OZXJjTVyIS_1"
      }
    },
    {
      "cell_type": "code",
      "source": [
        "total_seconds = float(input(\"시간 값을 초 단위로 입력해주세요:\"))\n",
        "hours = total_seconds // 3600\n",
        "minutes = (total_seconds // 60) % 60\n",
        "seconds = total_seconds % 60\n",
        "\n",
        "print(\"시 분 초는 다음과 같습니다.\")\n",
        "print(\"시:\", hours)\n",
        "print(\"분:\", minutes)\n",
        "print(\"초:\", seconds)"
      ],
      "metadata": {
        "colab": {
          "base_uri": "https://localhost:8080/"
        },
        "id": "nYHKnPj4IQ33",
        "outputId": "500f16bc-debf-4929-cc41-5a80171afbf9"
      },
      "execution_count": null,
      "outputs": [
        {
          "output_type": "stream",
          "name": "stdout",
          "text": [
            "시간 값을 초 단위로 입력해주세요:1000\n",
            "시 분 초는 다음과 같습니다.\n",
            "시: 0.0\n",
            "분: 16.0\n",
            "초: 40.0\n"
          ]
        }
      ]
    },
    {
      "cell_type": "markdown",
      "source": [
        "Program 2-17"
      ],
      "metadata": {
        "id": "sbNkA3XhJG8d"
      }
    },
    {
      "cell_type": "code",
      "source": [
        "future_value = float(input('목표 금액을 입력해주세요: '))\n",
        "rate = float(input('연간 이율을 입력해주세요: '))\n",
        "years = int(input('저축 기간을 연 단위로 입력해주세요: '))\n",
        "present_value = future_value / (1.0 + rate)**years\n",
        "print('적립 금액: ', present_value)"
      ],
      "metadata": {
        "colab": {
          "base_uri": "https://localhost:8080/"
        },
        "id": "SD-sufxyJH4c",
        "outputId": "13ea3cf9-2923-4858-b505-e767d40453e3"
      },
      "execution_count": null,
      "outputs": [
        {
          "output_type": "stream",
          "name": "stdout",
          "text": [
            "목표 금액을 입력해주세요: 10000\n",
            "연간 이율을 입력해주세요: 5\n",
            "저축 기간을 연 단위로 입력해주세요: 5\n",
            "적립 금액:  1.286008230452675\n"
          ]
        }
      ]
    },
    {
      "cell_type": "markdown",
      "source": [
        "Program 2-18"
      ],
      "metadata": {
        "id": "NtzljgKvJVYu"
      }
    },
    {
      "cell_type": "code",
      "source": [
        "print('a','b','c')\n",
        "print('a','b','c',sep='')\n",
        "print('a','b','c',sep='***')"
      ],
      "metadata": {
        "colab": {
          "base_uri": "https://localhost:8080/"
        },
        "id": "kjghj_fmJWhF",
        "outputId": "3d21cf1f-fb09-4cc4-9c9b-2f460b1f0632"
      },
      "execution_count": null,
      "outputs": [
        {
          "output_type": "stream",
          "name": "stdout",
          "text": [
            "a b c\n",
            "abc\n",
            "a***b***c\n"
          ]
        }
      ]
    },
    {
      "cell_type": "markdown",
      "source": [
        "Program 2-19"
      ],
      "metadata": {
        "id": "9HC9FfcFJYWD"
      }
    },
    {
      "cell_type": "code",
      "source": [
        "print('a')\n",
        "print('b')\n",
        "print('c', end='')\n",
        "print('d', end='')\n",
        "print('e', end='***')\n",
        "print('f')"
      ],
      "metadata": {
        "colab": {
          "base_uri": "https://localhost:8080/"
        },
        "id": "hJwHcgHSJZ56",
        "outputId": "cdd80149-9a7c-4d92-ffbd-d729a37a8929"
      },
      "execution_count": null,
      "outputs": [
        {
          "output_type": "stream",
          "name": "stdout",
          "text": [
            "a\n",
            "b\n",
            "cde***f\n"
          ]
        }
      ]
    },
    {
      "cell_type": "markdown",
      "source": [
        "Program 2-20"
      ],
      "metadata": {
        "id": "zZ9cjwp8JdLr"
      }
    },
    {
      "cell_type": "code",
      "source": [
        "amount_due = 5000.0\n",
        "monthly_payment = amount_due / 12.0\n",
        "print('월급여: ', monthly_payment)"
      ],
      "metadata": {
        "colab": {
          "base_uri": "https://localhost:8080/"
        },
        "id": "tryKy6LKJemb",
        "outputId": "a62a6024-07fe-4b0d-ba5d-f86bf3270f15"
      },
      "execution_count": null,
      "outputs": [
        {
          "output_type": "stream",
          "name": "stdout",
          "text": [
            "월급여:  416.6666666666667\n"
          ]
        }
      ]
    },
    {
      "cell_type": "markdown",
      "source": [
        "Program 2-21"
      ],
      "metadata": {
        "id": "KyNk6kTYJhuE"
      }
    },
    {
      "cell_type": "code",
      "source": [
        "amount_due = 5000.0\n",
        "monthly_payment = amount_due / 12\n",
        "print('월급여: ', format(monthly_payment, '.2f'))"
      ],
      "metadata": {
        "id": "JV7aeuAmJf1l"
      },
      "execution_count": null,
      "outputs": []
    },
    {
      "cell_type": "markdown",
      "source": [
        "Program 2-22"
      ],
      "metadata": {
        "id": "WYrknNuDJkdz"
      }
    },
    {
      "cell_type": "code",
      "source": [
        "monthly_pay = 5000.0\n",
        "annual_pay = monthly_pay * 12\n",
        "print('Your annual pay is $', format(annual_pay, ',.2f'), sep='')"
      ],
      "metadata": {
        "id": "dTUP7295Jlxs"
      },
      "execution_count": null,
      "outputs": []
    },
    {
      "cell_type": "markdown",
      "source": [
        "Program 2-23"
      ],
      "metadata": {
        "id": "j5hc434SJm2b"
      }
    },
    {
      "cell_type": "code",
      "source": [
        "num1 = 127.899\n",
        "num2 = 3465.148\n",
        "num3 = 3.776\n",
        "num4 = 264.821\n",
        "num5 = 88.081\n",
        "num6 = 799.999\n",
        "\n",
        "print(format(num2, '7.2f'))\n",
        "print(format(num3, '7.2f'))\n",
        "print(format(num4, '7.2f'))\n",
        "print(format(num5, '7.2f'))\n",
        "print(format(num6, '7.2f'))"
      ],
      "metadata": {
        "id": "tGvWk96DJtnU"
      },
      "execution_count": null,
      "outputs": []
    }
  ]
}